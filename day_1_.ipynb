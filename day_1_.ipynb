{
  "nbformat": 4,
  "nbformat_minor": 0,
  "metadata": {
    "colab": {
      "provenance": [],
      "authorship_tag": "ABX9TyNPsX48OuW6l7BBVv0dAxfV",
      "include_colab_link": true
    },
    "kernelspec": {
      "name": "python3",
      "display_name": "Python 3"
    },
    "language_info": {
      "name": "python"
    }
  },
  "cells": [
    {
      "cell_type": "markdown",
      "metadata": {
        "id": "view-in-github",
        "colab_type": "text"
      },
      "source": [
        "<a href=\"https://colab.research.google.com/github/alishbajunaid/Simple-Calculator/blob/main/day_1_.ipynb\" target=\"_parent\"><img src=\"https://colab.research.google.com/assets/colab-badge.svg\" alt=\"Open In Colab\"/></a>"
      ]
    },
    {
      "cell_type": "markdown",
      "source": [
        "# ***Task 1***"
      ],
      "metadata": {
        "id": "SWpH90mogtB5"
      }
    },
    {
      "cell_type": "markdown",
      "source": [
        "In this task I simply write a message in which i used f string.\n"
      ],
      "metadata": {
        "id": "ucDeNqWxrcn9"
      }
    },
    {
      "cell_type": "code",
      "source": [
        "name = \"Alishba\"\n",
        "message = f\"\"\"Hello Python Learners!!!\n",
        "This is {name}. Today is the first step in my coding \"\"\"\n",
        "print(message)"
      ],
      "metadata": {
        "id": "Ft3j7ug-hUnZ",
        "colab": {
          "base_uri": "https://localhost:8080/"
        },
        "outputId": "d888b5e9-364d-4583-e6f2-b1b3e55e1c80"
      },
      "execution_count": 7,
      "outputs": [
        {
          "output_type": "stream",
          "name": "stdout",
          "text": [
            "Hello Python Learners!!! \n",
            "This is Alishba. Today is the first step in my coding \n"
          ]
        }
      ]
    }
  ]
}